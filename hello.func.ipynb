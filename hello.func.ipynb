{
 "cells": [
  {
   "cell_type": "markdown",
   "metadata": {},
   "source": [
    "Hello functions\n",
    "```\n",
    "def functionName(p1, p2, ...):\n",
    "    ins_1\n",
    "    ins_2\n",
    "    ...\n",
    "    ins_N\n",
    "    return <value>\n",
    "```"
   ]
  },
  {
   "cell_type": "markdown",
   "metadata": {},
   "source": [
    "## Architecht"
   ]
  },
  {
   "cell_type": "code",
   "execution_count": 16,
   "metadata": {},
   "outputs": [],
   "source": [
    "# function definition\n",
    "# HW1: Upgrade the \"hi()\" function\n",
    "#       +parameter <name> - name of person\n",
    "#   When call   hi(\"en\", \"John\") -> Hello John!\n",
    "\n",
    "def hi(lang, name):     # \"en\", \"ru\", \"ro\", ....\n",
    "    if lang == \"en\":\n",
    "        print(f\"Hello {name} !\")\n",
    "    elif lang == \"ru\":\n",
    "        print(f\"Привет {name} !\")\n",
    "    elif lang == \"ro\":\n",
    "        print(f\"Salut {name} !\")\n",
    "    else:\n",
    "        print(f\"ERROR {lang} is not recognized!!!\")"
   ]
  },
  {
   "cell_type": "markdown",
   "metadata": {},
   "source": [
    "## User"
   ]
  },
  {
   "cell_type": "code",
   "execution_count": 18,
   "metadata": {},
   "outputs": [
    {
     "name": "stdout",
     "output_type": "stream",
     "text": [
      "Hello Mark !\n",
      "Привет Mark !\n",
      "Salut Mark !\n",
      "ERROR xz is not recognized!!!\n"
     ]
    }
   ],
   "source": [
    "# function call\n",
    "hi(\"en\", \"Mark\")\n",
    "hi(\"ru\", \"Mark\")\n",
    "hi(\"ro\", \"Mark\")\n",
    "hi(\"xz\", \"Mark\")"
   ]
  }
 ],
 "metadata": {
  "kernelspec": {
   "display_name": "Python 3",
   "language": "python",
   "name": "python3"
  },
  "language_info": {
   "codemirror_mode": {
    "name": "ipython",
    "version": 3
   },
   "file_extension": ".py",
   "mimetype": "text/x-python",
   "name": "python",
   "nbconvert_exporter": "python",
   "pygments_lexer": "ipython3",
   "version": "3.10.6"
  },
  "orig_nbformat": 4,
  "vscode": {
   "interpreter": {
    "hash": "e7370f93d1d0cde622a1f8e1c04877d8463912d04d973331ad4851f04de6915a"
   }
  }
 },
 "nbformat": 4,
 "nbformat_minor": 2
}
